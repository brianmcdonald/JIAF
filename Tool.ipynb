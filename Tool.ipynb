{
 "cells": [
  {
   "cell_type": "code",
   "execution_count": null,
   "id": "e58b0a3f-41d4-4925-bcc2-eeeb237e2511",
   "metadata": {},
   "outputs": [],
   "source": [
    "import pandas as pd\n",
    "# !conda install openpyxl -y\n",
    "\n",
    "\n",
    "# %%\n",
    "input = pd.read_excel('JIAF template - Scenario A.xlsx', sheet_name='hh data')\n",
    "\n",
    "\n",
    "# %% [markdown]\n",
    "# ## Check input data for errors\n",
    "# - Check that required variables are present\n",
    "# - Check for missing values\n",
    "# - Check for missing indicator values\n",
    "#\n",
    "# For the 'data' tab, each row represents a unique household. For the 'area data' tab each row represents an indicator for its most detailed available admin-level.\n",
    "\n",
    "# %% [markdown]\n",
    "# ## Reconcile area-level indicators to corresponding households\n",
    "# To use area-level indicator with household-lvel data, each area level indicator must be attached to housholds in the matching lowest-level admin area and population group.\n",
    "\n",
    "# %% [markdown]\n",
    "# ## Aggregate severity scores for all indicators for each household\n",
    "# The **mean of max 4 method** is the arithemetic mean of the 4 indicators with the highest severity score. The resulting number represent the overall severity for each household.\n",
    "\n",
    "# %% [markdown]\n",
    "# ## Check if any \"Critical Indicator\" (see section 4.1.4) severity score is higher than the computed severity score.\n",
    "# Households where the computed severity score is lower than any critical indicator are hightlighted for review in the expert judgement stage.\n",
    "# Note: It's unclear whether this informs a review prior to the end expert judgement session\n",
    "\n",
    "# %% [markdown]\n",
    "# ## Aggregate households to desired admin-level and population groups\n",
    "\n",
    "# %% [markdown]\n",
    "# ## Append Assistance, Risk and Projections info to inform expert judgement\n",
    "# Note to self: It is currently unclear how to incorportate existing assistance, risk and projections correctly into the hh and area-level data. Current issues include:\n",
    "# - Marking \"Already ongoing assistance as Yes/No is meaningless without knowing what assitance it is and if its related to the indcators representing the needs.\n",
    "# - Information on risks at the HH-level and some admin-levels would need summarization to be used in the Risk column.\n",
    "# - Projections could include intentions survey data, but only if incorporated into the same HH survey.\n",
    "\n",
    "# %%\n",
    "# !conda install -c conda-forge jupytext -y\n",
    "\n",
    "\n",
    "# %%"
   ]
  }
 ],
 "metadata": {
  "kernelspec": {
   "display_name": "Python 3 (ipykernel)",
   "language": "python",
   "name": "python3"
  },
  "language_info": {
   "codemirror_mode": {
    "name": "ipython",
    "version": 3
   },
   "file_extension": ".py",
   "mimetype": "text/x-python",
   "name": "python",
   "nbconvert_exporter": "python",
   "pygments_lexer": "ipython3",
   "version": "3.9.7"
  }
 },
 "nbformat": 4,
 "nbformat_minor": 5
}
